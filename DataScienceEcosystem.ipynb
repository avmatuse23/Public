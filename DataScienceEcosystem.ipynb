{
 "cells": [
  {
   "cell_type": "markdown",
   "id": "14008062",
   "metadata": {},
   "source": [
    "# Data Science Tools and Ecosystem\n",
    "Data Science Tools and Ecosystem are summarized. "
   ]
  },
  {
   "cell_type": "markdown",
   "id": "5ca93ae4",
   "metadata": {},
   "source": [
    "**Objectives:**\n",
    "* List popular languages for Data Science\n",
    "* List data science libraries\n",
    "* Tabulate Data Science tools\n",
    "* Multiply and add numbers example\n",
    "* Convert minutes to hours"
   ]
  },
  {
   "cell_type": "markdown",
   "id": "2750a563",
   "metadata": {},
   "source": [
    "Some of the popular languages that Data Scientists use are: \n",
    "1. Python\n",
    "2. R\n",
    "3. SQL\n",
    "4. Java\n",
    "5. Julia"
   ]
  },
  {
   "cell_type": "markdown",
   "id": "a62fcfec",
   "metadata": {},
   "source": [
    "Some of the commonly used libraries used by Data Scientists include:\n",
    "1. TensorFlow\n",
    "2. SciPy\n",
    "3. Pandas\n",
    "4. Matplotlib\n",
    "5. NumPy"
   ]
  },
  {
   "cell_type": "markdown",
   "id": "dca80413",
   "metadata": {},
   "source": [
    "| Data Science Tools |\n",
    "|------------------- |\n",
    "| RStudio |\n",
    "| Apache Spark |\n",
    "| TensorFlow |\n",
    "| Apache Hadoop |\n"
   ]
  },
  {
   "cell_type": "markdown",
   "id": "97444d0d",
   "metadata": {},
   "source": [
    "### Below are a few examples of evaluating arithmetic expressions in Python."
   ]
  },
  {
   "cell_type": "code",
   "execution_count": 1,
   "id": "19962907",
   "metadata": {},
   "outputs": [
    {
     "data": {
      "text/plain": [
       "17"
      ]
     },
     "execution_count": 1,
     "metadata": {},
     "output_type": "execute_result"
    }
   ],
   "source": [
    "# This a simple arithmetic expression to mutiply then add integers. \n",
    "(3*4)+5"
   ]
  },
  {
   "cell_type": "code",
   "execution_count": 2,
   "id": "8ff36711",
   "metadata": {},
   "outputs": [
    {
     "data": {
      "text/plain": [
       "3.3333333333333335"
      ]
     },
     "execution_count": 2,
     "metadata": {},
     "output_type": "execute_result"
    }
   ],
   "source": [
    "# This will convert 200 minutes to hours by diving by 60.\n",
    "200/60"
   ]
  },
  {
   "cell_type": "markdown",
   "id": "650fab49",
   "metadata": {},
   "source": [
    "## Author\n",
    "Alena Matusevich"
   ]
  },
  {
   "cell_type": "code",
   "execution_count": null,
   "id": "8992b680",
   "metadata": {},
   "outputs": [],
   "source": []
  }
 ],
 "metadata": {
  "kernelspec": {
   "display_name": "Python 3 (ipykernel)",
   "language": "python",
   "name": "python3"
  },
  "language_info": {
   "codemirror_mode": {
    "name": "ipython",
    "version": 3
   },
   "file_extension": ".py",
   "mimetype": "text/x-python",
   "name": "python",
   "nbconvert_exporter": "python",
   "pygments_lexer": "ipython3",
   "version": "3.10.9"
  }
 },
 "nbformat": 4,
 "nbformat_minor": 5
}
